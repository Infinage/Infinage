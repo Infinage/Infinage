{
  "cells": [],
  "nbformat": 4,
  "nbformat_minor": 2,
  "metadata": {
    "kernelspec": {
      "language": "python",
      "name": "python3",
      "display_name": "Python 3 (ipykernel)"
    }
  }
}
